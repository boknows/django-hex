{
 "cells": [
  {
   "cell_type": "code",
   "execution_count": 2,
   "metadata": {
    "collapsed": false
   },
   "outputs": [],
   "source": [
    "from map.models import Game, Map, Tile\n",
    "tiles = Tile.objects.all()"
   ]
  },
  {
   "cell_type": "code",
   "execution_count": 3,
   "metadata": {
    "collapsed": false
   },
   "outputs": [
    {
     "data": {
      "text/plain": [
       "<QuerySet [<Tile: Tile - row(4) column(4) - Owner(bo) - map_id(18)>, <Tile: Tile - row(6) column(6) - Owner(spencer) - map_id(18)>, <Tile: Tile - row(5) column(8) - Owner(atorgerson) - map_id(18)>, <Tile: Tile - row(7) column(2) - Owner(bo) - map_id(18)>, <Tile: Tile - row(9) column(8) - Owner(spencer) - map_id(18)>, <Tile: Tile - row(1) column(5) - Owner(atorgerson) - map_id(18)>, <Tile: Tile - row(5) column(4) - Owner(bo) - map_id(18)>, <Tile: Tile - row(0) column(1) - Owner(spencer) - map_id(18)>, <Tile: Tile - row(5) column(1) - Owner(atorgerson) - map_id(18)>, <Tile: Tile - row(0) column(5) - Owner(bo) - map_id(18)>, <Tile: Tile - row(8) column(2) - Owner(spencer) - map_id(18)>, <Tile: Tile - row(9) column(1) - Owner(atorgerson) - map_id(18)>, <Tile: Tile - row(0) column(9) - Owner(bo) - map_id(18)>, <Tile: Tile - row(4) column(7) - Owner(spencer) - map_id(18)>, <Tile: Tile - row(8) column(4) - Owner(atorgerson) - map_id(18)>, <Tile: Tile - row(0) column(4) - Owner(bo) - map_id(18)>, <Tile: Tile - row(1) column(9) - Owner(spencer) - map_id(18)>, <Tile: Tile - row(2) column(8) - Owner(atorgerson) - map_id(18)>, <Tile: Tile - row(9) column(4) - Owner(bo) - map_id(18)>, <Tile: Tile - row(0) column(6) - Owner(spencer) - map_id(18)>, '...(remaining elements truncated)...']>"
      ]
     },
     "execution_count": 3,
     "metadata": {},
     "output_type": "execute_result"
    }
   ],
   "source": [
    "tiles"
   ]
  },
  {
   "cell_type": "code",
   "execution_count": 4,
   "metadata": {
    "collapsed": false
   },
   "outputs": [
    {
     "name": "stdout",
     "output_type": "stream",
     "text": [
      "Tile - row(4) column(4) - Owner(bo) - map_id(18)  is attacking  Tile - row(6) column(6) - Owner(spencer) - map_id(18)\n"
     ]
    }
   ],
   "source": [
    "tiles[0].attack(tiles[1])"
   ]
  },
  {
   "cell_type": "code",
   "execution_count": null,
   "metadata": {
    "collapsed": true
   },
   "outputs": [],
   "source": []
  }
 ],
 "metadata": {
  "kernelspec": {
   "display_name": "Django Shell-Plus",
   "language": "python",
   "name": "django_extensions"
  },
  "language_info": {
   "codemirror_mode": {
    "name": "ipython",
    "version": 2
   },
   "file_extension": ".py",
   "mimetype": "text/x-python",
   "name": "python",
   "nbconvert_exporter": "python",
   "pygments_lexer": "ipython2",
   "version": "2.7.11"
  }
 },
 "nbformat": 4,
 "nbformat_minor": 1
}
